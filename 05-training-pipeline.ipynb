{
 "cells": [
  {
   "attachments": {},
   "cell_type": "markdown",
   "metadata": {},
   "source": [
    "1. Design model (input, output, size, forward pass)\n",
    "2. Construct loss and optimizer\n",
    "3. Training loop\n",
    "   * forward pass: compute prediction\n",
    "   * backward pass: gradients\n",
    "   * update weights"
   ]
  },
  {
   "cell_type": "code",
   "execution_count": 8,
   "metadata": {},
   "outputs": [
    {
     "name": "stdout",
     "output_type": "stream",
     "text": [
      "4 1\n",
      "Prediction before training : f(5)= -1.149\n",
      "epoch 1: w = 0.147, loss = 38.16199493\n",
      "epoch 11: w = 1.566, loss = 1.02485108\n",
      "epoch 21: w = 1.798, loss = 0.06184112\n",
      "epoch 31: w = 1.840, loss = 0.03486974\n",
      "epoch 41: w = 1.850, loss = 0.03223545\n",
      "epoch 51: w = 1.855, loss = 0.03034355\n",
      "epoch 61: w = 1.860, loss = 0.02857698\n",
      "epoch 71: w = 1.864, loss = 0.02691368\n",
      "Prediction after training: f(5) = 9.727\n"
     ]
    }
   ],
   "source": [
    "import torch\n",
    "import torch.nn as nn\n",
    "\n",
    "# f = 2 * x\n",
    "X = torch.tensor([1, 2, 3, 4], dtype=torch.float32)\n",
    "Y = torch.tensor([2, 4, 6, 8], dtype=torch.float32)\n",
    "\n",
    "X = X.reshape((4, 1))\n",
    "Y = Y.reshape((4, 1))\n",
    "n_samples, n_features = X.shape\n",
    "print(n_samples, n_features)\n",
    "\n",
    "input_size = n_features\n",
    "output_size = n_features\n",
    "\n",
    "# model prediction\n",
    "model = nn.Linear(input_size, output_size)\n",
    "\n",
    "X_test = torch.tensor([5], dtype=torch.float32)\n",
    "print(f\"Prediction before training : f(5)= {model(X_test).item():.3f}\")\n",
    "\n",
    "# Training \n",
    "learning_rate = 0.01\n",
    "n_iters = 80\n",
    "\n",
    "loss = nn.MSELoss()\n",
    "optimizer = torch.optim.SGD(model.parameters(), lr=learning_rate)\n",
    "\n",
    "for epoch in range(n_iters):\n",
    "    # prediction = forward pass\n",
    "    y_pred = model(X)\n",
    "\n",
    "    # loss \n",
    "    l = loss(Y, y_pred)\n",
    "\n",
    "    # gradients = backward pass\n",
    "    l.backward() # dl/dw\n",
    "\n",
    "    # update weights\n",
    "    optimizer.step()\n",
    "\n",
    "    # zero gradients\n",
    "    optimizer.zero_grad()\n",
    "\n",
    "    if epoch % 10 == 0:\n",
    "        [w ,b] = model.parameters()\n",
    "        print(f\"epoch {epoch + 1}: w = {w[0][0].item():.3f}, loss = {l:.8f}\")\n",
    "\n",
    "print(f\"Prediction after training: f(5) = {model(X_test).item():.3f}\")"
   ]
  }
 ],
 "metadata": {
  "kernelspec": {
   "display_name": "ml",
   "language": "python",
   "name": "python3"
  },
  "language_info": {
   "codemirror_mode": {
    "name": "ipython",
    "version": 3
   },
   "file_extension": ".py",
   "mimetype": "text/x-python",
   "name": "python",
   "nbconvert_exporter": "python",
   "pygments_lexer": "ipython3",
   "version": "3.10.8"
  },
  "orig_nbformat": 4
 },
 "nbformat": 4,
 "nbformat_minor": 2
}
